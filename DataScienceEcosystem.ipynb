{
 "cells": [
  {
   "cell_type": "markdown",
   "id": "f03f34ea",
   "metadata": {},
   "source": [
    "# Data Science Tools and Ecosystem"
   ]
  },
  {
   "cell_type": "markdown",
   "id": "3b93ca30",
   "metadata": {},
   "source": [
    "In this notebook, Data Szcience Tools and Ecosystem are summarized."
   ]
  },
  {
   "cell_type": "markdown",
   "id": "ed430b1e",
   "metadata": {},
   "source": [
    "**Objectives:**\n",
    "+ Popular languages for data science\n",
    "+ Commonly used libraries in data science\n",
    "+ A table of Data Science tools\n",
    "+ Basic arithmetic using Python\n",
    "+ Name of Author"
   ]
  },
  {
   "cell_type": "markdown",
   "id": "579d42af",
   "metadata": {},
   "source": [
    "Some of the popular languages that Data Scientists use are:\n",
    "1. Pythan\n",
    "2. R\n",
    "3. Scala\n",
    "4. SQL"
   ]
  },
  {
   "cell_type": "markdown",
   "id": "f12bb2cc",
   "metadata": {},
   "source": [
    "Some of the commonly used libraries used by Data Scientists include:\n",
    "1. Pandas\n",
    "2. TensorFlow\n",
    "3. scikit-learn\n",
    "4. PyTorch\n",
    "5. NumPy"
   ]
  },
  {
   "cell_type": "markdown",
   "id": "44ed4a29",
   "metadata": {},
   "source": [
    "| Data Science Tools |\n",
    "-------------\n",
    "|JupyterNotebook|\n",
    "|Visual Studio|\n",
    "|RStudio|"
   ]
  },
  {
   "cell_type": "markdown",
   "id": "507eebe5",
   "metadata": {},
   "source": [
    "### Below are a few examples of evaluating arithmetic expressions in Python."
   ]
  },
  {
   "cell_type": "code",
   "execution_count": 1,
   "id": "14907d5d",
   "metadata": {},
   "outputs": [
    {
     "name": "stdout",
     "output_type": "stream",
     "text": [
      "This a simple arithmetic expression to mutiply then add integers\n",
      "17\n"
     ]
    }
   ],
   "source": [
    "a = (3*4)+5\n",
    "print(\"This a simple arithmetic expression to mutiply then add integers\")\n",
    "print(a)"
   ]
  },
  {
   "cell_type": "code",
   "execution_count": 2,
   "id": "8d72c57f",
   "metadata": {},
   "outputs": [
    {
     "name": "stdout",
     "output_type": "stream",
     "text": [
      "This will convert 200 minutes to hours by diving by 60\n",
      "3.3333333333333335\n"
     ]
    }
   ],
   "source": [
    "minutes = 200\n",
    "hours = minutes / 60\n",
    "print(\"This will convert 200 minutes to hours by diving by 60\")\n",
    "print(hours)"
   ]
  },
  {
   "cell_type": "markdown",
   "id": "05b6c471",
   "metadata": {},
   "source": [
    "## Author\n",
    "Ravi Madhan"
   ]
  }
 ],
 "metadata": {
  "kernelspec": {
   "display_name": "Python 3 (ipykernel)",
   "language": "python",
   "name": "python3"
  },
  "language_info": {
   "codemirror_mode": {
    "name": "ipython",
    "version": 3
   },
   "file_extension": ".py",
   "mimetype": "text/x-python",
   "name": "python",
   "nbconvert_exporter": "python",
   "pygments_lexer": "ipython3",
   "version": "3.11.3"
  }
 },
 "nbformat": 4,
 "nbformat_minor": 5
}
